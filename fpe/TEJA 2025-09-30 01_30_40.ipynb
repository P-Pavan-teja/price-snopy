{
 "metadata": {
  "kernelspec": {
   "display_name": "Streamlit Notebook",
   "name": "streamlit"
  },
  "lastEditStatus": {
   "notebookId": "wbnvybkqiobxg2l6hw23",
   "authorId": "7971195759982",
   "authorName": "TEJA",
   "authorEmail": "",
   "sessionId": "11e1d445-4562-434f-b6bb-b13f1b4ed0de",
   "lastEditTime": 1759213941224
  }
 },
 "nbformat_minor": 5,
 "nbformat": 4,
 "cells": [
  {
   "cell_type": "code",
   "id": "f9e58617-9efa-46c9-a5e3-fe2ade02ce6b",
   "metadata": {
    "language": "python",
    "name": "cell1"
   },
   "outputs": [],
   "source": "from typing import Optional\n\ndef keep(value: Optional[str]) -> Optional[str]:\n    return value\n\ndef nullify(value: Optional[str]) -> None:\n    return None\n\ndef mask_fixed(value: Optional[str], mask_char: str = \"X\") -> Optional[str]:\n    if value is None:\n        return None\n    return mask_char * len(str(value))\n\ndef mask_lastn(value: Optional[str], n: int = 4, mask_char: str = \"X\") -> Optional[str]:\n    if value is None:\n        return None\n    s = str(value)\n    if len(s) <= n:\n        return s\n    return (mask_char * (len(s) - n)) + s[-n:]\n\ndef mask_firstn(value: Optional[str], n: int = 4, mask_char: str = \"X\") -> Optional[str]:\n    if value is None:\n        return None\n    s = str(value)\n    if len(s) <= n:\n        return s\n    return s[:n] + (mask_char * (len(s) - n))",
   "execution_count": null
  },
  {
   "cell_type": "code",
   "id": "b810ff15-cd4a-4dcc-9f2a-c2760bb1bc37",
   "metadata": {
    "language": "python",
    "name": "cell2"
   },
   "outputs": [],
   "source": "from snowflake.snowpark import Session\nsession = Session.builder.getOrCreate()\n\n# Session is already created in Notebook as `session`\ncfg_df = session.table(\"PUBLIC_OBF.OBF_CFG_COLUMNS\") \\\n    .filter(\"dataset_name = 'TPCH_CUSTOMER_5RULES' AND enabled = TRUE\")\n\ncfg = cfg_df.collect()",
   "execution_count": null
  },
  {
   "cell_type": "code",
   "id": "119d1dfc-a70d-4721-a450-3e26d3684bbc",
   "metadata": {
    "language": "python",
    "name": "cell3"
   },
   "outputs": [],
   "source": "import json\n\ndef apply_rule_value(rule_name: str, value, obf_params):\n    \"\"\"Dispatch obfuscation rule to the right Python function.\"\"\"\n    params = {}\n    if obf_params is not None:\n        params = json.loads(str(obf_params))  # VARIANT → dict\n\n    if rule_name == \"KEEP\":\n        return keep(value)\n    elif rule_name == \"NULLIFY\":\n        return nullify(value)\n    elif rule_name == \"MASK_FIXED\":\n        return mask_fixed(value, **params)\n    elif rule_name == \"MASK_LASTN\":\n        return mask_lastn(value, **params)\n    elif rule_name == \"MASK_FIRSTN\":\n        return mask_firstn(value, **params)\n    else:\n        return value  # fallback (no change)",
   "execution_count": null
  },
  {
   "cell_type": "code",
   "id": "f945acdb-5b80-4a47-923b-5cb06736cfb6",
   "metadata": {
    "language": "python",
    "name": "cell4"
   },
   "outputs": [],
   "source": "# Load 10 sample rows from CUSTOMER\ncust_df = session.table(\"SNOWFLAKE_SAMPLE_DATA.TPCH_SF1.CUSTOMER\").limit(10)\ncust_pd = cust_df.to_pandas()\n\n# Apply transformations column by column based on config\ncust_obf = cust_pd.copy()\nfor row in cfg:\n    col = row[\"COLUMN_NAME\"]\n    rule = row[\"OBF_RULE\"]\n    params = row[\"OBF_PARAMS\"]\n    cust_obf[col] = cust_obf[col].apply(lambda v: apply_rule_value(rule, v, params))\n\ncust_obf",
   "execution_count": null
  }
 ]
}
