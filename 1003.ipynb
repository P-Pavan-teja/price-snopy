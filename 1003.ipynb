{
 "metadata": {
  "kernelspec": {
   "display_name": "Streamlit Notebook",
   "name": "streamlit"
  },
  "lastEditStatus": {
   "notebookId": "2hhu44ysg57bzy52jsl7",
   "authorId": "7971195759982",
   "authorName": "TEJA",
   "authorEmail": "",
   "sessionId": "fc72808e-9694-416d-8b67-246dfa955401",
   "lastEditTime": 1759497390564
  }
 },
 "nbformat_minor": 5,
 "nbformat": 4,
 "cells": [
  {
   "cell_type": "code",
   "id": "821d44a1-df6c-4921-acf1-29158cb25ba4",
   "metadata": {
    "language": "python",
    "name": "cell1"
   },
   "outputs": [],
   "source": "from typing import Optional, Iterable, Union, Callable\nimport pandas as pd\nimport numpy as np\nfrom snowflake.snowpark import Session\nsession = Session.builder.getOrCreate()",
   "execution_count": null
  },
  {
   "cell_type": "code",
   "id": "256511bb-b481-48fe-b2b3-d87c457bf969",
   "metadata": {
    "language": "python",
    "name": "cell2"
   },
   "outputs": [],
   "source": "# ------------------ Minimal Obfuscation Framework ------------------\nimport hashlib, random\nfrom typing import Optional\n\n# ---------- Masking Rules ----------\ndef keep(value: Optional[str]) -> Optional[str]:\n    return value\n\ndef nullify(value: Optional[str]) -> None:\n    return None\n\ndef mask_fixed(value: Optional[str], mask_char: str = \"X\") -> Optional[str]:\n    if value is None:\n        return None\n    s = str(value)\n    return mask_char * len(s)\n\ndef mask_lastn(value: Optional[str], n: int = 4, mask_char: str = \"X\") -> Optional[str]:\n    if value is None:\n        return None\n    s = str(value)\n    if len(s) <= n:\n        # return s\n        return mask_char * len(s)   \n    return (mask_char * (len(s) - n)) + s[-n:]\n\ndef mask_firstn(value: Optional[str], n: int = 4, mask_char: str = \"X\") -> Optional[str]:\n    if value is None:\n        return None\n    s = str(value)\n    if len(s) <= n:\n        # return s\n        return mask_char * len(s)   \n    return s[:n] + (mask_char * (len(s) - n))\n\n# ---------- Scrambling Helpers ----------\ndef _seed(s: str) -> int:\n    return int(hashlib.sha256(s.encode(\"utf-8\")).hexdigest(), 16)\n\ndef _internal_shuffle(s: str) -> str:\n    if s is None or len(s) <= 2:\n        return s\n    first, last = s[0], s[-1]\n    mid = list(s[1:-1])\n    random.Random(_seed(s)).shuffle(mid)\n    return first + \"\".join(mid) + last\n\ndef _full_shuffle(s: str) -> str:\n    if s is None or len(s) <= 1:\n        return s\n    chars = list(s)\n    random.Random(_seed(s)).shuffle(chars)\n    return \"\".join(chars)\n\ndef _reverse(s: str) -> str:\n    return None if s is None else s[::-1]\n\ndef obfuscate(text: str, variant: str = \"INTERNAL\") -> str:\n    \"\"\"\n    variant: \"INTERNAL\" | \"FULL\" | \"REVERSE\"\n    \"\"\"\n    if text is None:\n        return None\n    v = variant.upper()\n    if v == \"FULL\":\n        return _full_shuffle(text)\n    if v == \"REVERSE\":\n        return _reverse(text)\n    # default INTERNAL (keep first/last, shuffle middle)\n    return _internal_shuffle(text)\n\n# ------------------ End of Framework ------------------",
   "execution_count": null
  },
  {
   "cell_type": "code",
   "id": "26a3cd8b-d879-4abe-87d2-df82e0d9d1dd",
   "metadata": {
    "language": "python",
    "name": "cell3"
   },
   "outputs": [],
   "source": "# ------------------ Demo with Pandas DataFrame ------------------\nvalues = [\"pavan\", \"HOUSEHOLD\", \"1234567890\", \"Alice\", \"sam\", \"cutter\"]\ndf = pd.DataFrame(values, columns=[\"Original\"])\n\n# Apply each rule/variant\ndf[\"KEEP\"]        = df[\"Original\"].apply(keep)\ndf[\"NULLIFY\"]     = df[\"Original\"].apply(nullify)\ndf[\"MASK_FIXED\"]  = df[\"Original\"].apply(lambda v: mask_fixed(v, \"*\"))\ndf[\"MASK_LASTN\"]  = df[\"Original\"].apply(lambda v: mask_lastn(v, 4, \"X\"))\ndf[\"MASK_FIRSTN\"] = df[\"Original\"].apply(lambda v: mask_firstn(v, 3, \"#\"))\ndf[\"OBF_INTERNAL\"] = df[\"Original\"].apply(lambda v: obfuscate(v, \"INTERNAL\"))\ndf[\"OBF_FULL\"]     = df[\"Original\"].apply(lambda v: obfuscate(v, \"FULL\"))\ndf[\"OBF_REVERSE\"]  = df[\"Original\"].apply(lambda v: obfuscate(v, \"REVERSE\"))\n\ndf",
   "execution_count": null
  }
 ]
}